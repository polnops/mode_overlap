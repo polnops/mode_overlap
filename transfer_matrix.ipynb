{
 "cells": [
  {
   "cell_type": "code",
   "execution_count": 6,
   "source": [
    "import numpy as np\r\n",
    "import matplotlib.pyplot as plt\r\n",
    "from scipy.optimize import fsolve"
   ],
   "outputs": [],
   "metadata": {}
  },
  {
   "cell_type": "code",
   "execution_count": 7,
   "source": [
    "def TMM_IndexStep_Matrix(n1,n2):\r\n",
    "    '''Calculate the transfer matrix for a index step from n1 to n2.'''\r\n",
    "   \r\n",
    "    root = (2*np.sqrt(n1*n2))\r\n",
    "    a    = (n1+n2)/root;\r\n",
    "    b    = (n1-n2)/root;\r\n",
    "    \r\n",
    "    T_is = np.zeros((2,2,len(n1))) \r\n",
    "    T_is[0,0,:] = a; T_is[0,1,:] = b;\r\n",
    "    T_is[1,0,:] = b; T_is[1,1,:] = a\r\n",
    "    \r\n",
    "    return T_is\r\n",
    "\r\n",
    "def TMM_HomoWG_Matrix(wl_nm,l_nm,n_eff,loss):\r\n",
    "    ''' Calculate the transfer matrix of a homogeneous waveguide. '''\r\n",
    "\r\n",
    "    beta  = 2*np.pi*n_eff/wl_nm-1j*loss/2\r\n",
    "    \r\n",
    "    T_hw  = np.zeros((2,2,len(n_eff)),dtype=complex)\r\n",
    "    T_hw[0,0,:] = np.exp(1j*beta*l_nm)\r\n",
    "    T_hw[1,1,:] = np.exp(-1j*beta*l_nm)\r\n",
    "    \r\n",
    "    return T_hw\r\n",
    "\r\n",
    "def TMM_Grating_Matrix(wl_nm, period_nm, NG, n1, n2, loss):\r\n",
    "    '''Calculate the total transfer matrix of the gratings'''\r\n",
    "    \r\n",
    "    l_nm   =  period_nm/2;\r\n",
    "    T_hw1  = TMM_HomoWG_Matrix(wl_nm,l_nm,n1,loss);\r\n",
    "    T_is12 = TMM_IndexStep_Matrix(n1,n2);\r\n",
    "    T_hw2  = TMM_HomoWG_Matrix(wl_nm,l_nm,n2,loss);\r\n",
    "    T_is21 = TMM_IndexStep_Matrix(n2,n1);  \r\n",
    "    \r\n",
    "    q  = len(wl_nm);\r\n",
    "    Tp = np.zeros((2,2,q),dtype=complex); \r\n",
    "    T = np.zeros((2,2,q),dtype=complex);\r\n",
    "                                                       \r\n",
    "    \r\n",
    "    for i in range(len(wl_nm)):\r\n",
    "        Tp[:,:,i] = T_hw2[:,:,i]@T_is21[:,:,i]@T_hw1[:,:,i]@T_is12[:,:,i];\r\n",
    "        T[:,:,i]  = np.linalg.matrix_power(Tp[:,:,i], NG); # 1st order uniform Bragg grating\r\n",
    "        \r\n",
    "        #for an FP cavity, 1st order cavity, insert a high index region, n2.\r\n",
    "        #T[:,:,i] = Tp[:,:,i]**NG * (T_hw2[:,:,i]) * Tp[:,:,i]**NG * T_hw2[:,:,i];\r\n",
    "\r\n",
    "    return T\r\n",
    "\r\n",
    "def TMM_Grating_RT(wl_nm, period_nm, NG, n1, n2, loss):\r\n",
    "    '''Calculate the R and T versus wavelength'''\r\n",
    "\r\n",
    "    M = TMM_Grating_Matrix(wl_nm, period_nm, NG, n1, n2, loss);   \r\n",
    "    q = len(wl_nm)-1;     \r\n",
    "    T = np.abs(1/M[0,0,:])**2;  \r\n",
    "    R = np.abs(M[1,0,:]/M[0,0,:])**2;\r\n",
    "  \r\n",
    "    return [R,T]"
   ],
   "outputs": [],
   "metadata": {}
  },
  {
   "cell_type": "code",
   "execution_count": 10,
   "source": [
    "# def gratingReflectivity():\r\n",
    "#     '''This is used to plot the reflection/transmission spectrum.'''\r\n",
    "\r\n",
    "#Grating Parameters\r\n",
    "period_nm = 300          # Bragg period\r\n",
    "NG        = 50          # Number of grating periods\r\n",
    "l_nm      = NG*period_nm    # Grating length\r\n",
    "width0_nm = 300;         # mean waveguide width\r\n",
    "dwidth_nm = 25;        # +/- waveguide width\r\n",
    "width1    = width0_nm - dwidth_nm;\r\n",
    "width2    = width0_nm + dwidth_nm;\r\n",
    "loss_dBcm = 4e-4;           # waveguide loss, dB/cm\r\n",
    "loss      = 0.1*np.log(10)*loss_dBcm*(1e2)*(1e-9) #1/nm\r\n",
    "\r\n",
    "#Simulation Parameters:\r\n",
    "span_nm   = 100;       # Set the wavelength span for the simultion\r\n",
    "Npoints   = 500;\r\n",
    "\r\n",
    "# from book: Strip waveguide; 500x220 nm\r\n",
    "def neff_wavelength(wl_nm):\r\n",
    "    return  2.4379 - 1.1193*(1e-3)*(wl_nm-1554) - 0.035*(1e-6)*(wl_nm-1554)**2;\r\n",
    "\r\n",
    "def dneff_width(w):\r\n",
    "    return 10.4285*(1e-9)*(w-500)**3 - 5.2487*(1e-6)*(w-500)**2 + 1.6142*(1e-3)*(w-500);\r\n",
    "\r\n",
    "# Find Bragg wavelength using lambda_Bragg = Period * 2neff(lambda_bragg);\r\n",
    "# Assume neff is for the average waveguide width.\r\n",
    "\r\n",
    "def func(lambda_nm):\r\n",
    "    n_avg = neff_wavelength(lambda_nm)\r\n",
    "    n_avg += (dneff_width(width2)+dneff_width(width1))/2\r\n",
    "    return lambda_nm - period_nm*2*n_avg;\r\n",
    "\r\n",
    "wavelength0 = fsolve(func,1300)\r\n",
    "\r\n",
    "\r\n",
    "wavelengths = wavelength0 + np.linspace(-span_nm/2, span_nm/2, Npoints);\r\n",
    "n1    = neff_wavelength(wavelengths)+dneff_width(width1); # low index\r\n",
    "n2    = neff_wavelength(wavelengths)+dneff_width(width2); # high index\r\n",
    "\r\n",
    "#print(wavelength0,n1[:3],n2[:3])\r\n",
    "      \r\n",
    "[R,T] = TMM_Grating_RT(wavelengths, period_nm, NG, n1, n2, loss)\r\n",
    "\r\n",
    "plt.figure()\r\n",
    "plt.plot(wavelengths,T)\r\n",
    "plt.plot(wavelengths,R)\r\n",
    "plt.xlabel(\"Wavelength [um]\")\r\n",
    "plt.ylabel(\"Response\")\r\n",
    "plt.show()\r\n"
   ],
   "outputs": [
    {
     "output_type": "display_data",
     "data": {
      "text/plain": [
       "<Figure size 432x288 with 1 Axes>"
      ],
      "image/png": "[encoded data removed]"
     },
     "metadata": {
      "needs_background": "light"
     }
    }
   ],
   "metadata": {
    "scrolled": true
   }
  },
  {
   "cell_type": "markdown",
   "source": [
    "## fitting COMSOL data"
   ],
   "metadata": {}
  },
  {
   "cell_type": "code",
   "execution_count": 11,
   "source": [
    "file = open('nk_wl1.dat')\r\n",
    "lst = []\r\n",
    "for line in file:\r\n",
    "    lst += [line.split()]\r\n",
    "    \r\n",
    "data      = np.array(lst[5:],dtype=float)\r\n",
    "wl_nm     = data[:,0]\r\n",
    "n_TE      = data[:,3]\r\n",
    "n_TM      = data[:,1]\r\n",
    "params_wl = np.polyfit((wl_nm-1280),n_TE,2)\r\n",
    "p_wl      = np.poly1d(params_wl)\r\n",
    "\r\n",
    "plt.plot(wl_nm, n_TE, marker = 'o', linestyle = '')\r\n",
    "plt.plot(wl_nm, n_TM, marker = 'o', linestyle = '')\r\n",
    "plt.plot(wl_nm, p_wl(wl_nm-1280))\r\n",
    "plt.show()\r\n",
    "# params_book = np.array([-0.035,-1.1193,2.4379])\r\n",
    "# p1 = np.poly1d(params_book)\r\n",
    "# plt.plot(wl_nm, p1((wl_nm*(1e-3)-1.55)))"
   ],
   "outputs": [
    {
     "output_type": "error",
     "ename": "FileNotFoundError",
     "evalue": "[Errno 2] No such file or directory: 'nk_wl1.dat'",
     "traceback": [
      "\u001b[1;31m---------------------------------------------------------------------------\u001b[0m",
      "\u001b[1;31mFileNotFoundError\u001b[0m                         Traceback (most recent call last)",
      "\u001b[1;32m<ipython-input-11-7b52da3d6d89>\u001b[0m in \u001b[0;36m<module>\u001b[1;34m\u001b[0m\n\u001b[1;32m----> 1\u001b[1;33m \u001b[0mfile\u001b[0m \u001b[1;33m=\u001b[0m \u001b[0mopen\u001b[0m\u001b[1;33m(\u001b[0m\u001b[1;34m'nk_wl1.dat'\u001b[0m\u001b[1;33m)\u001b[0m\u001b[1;33m\u001b[0m\u001b[1;33m\u001b[0m\u001b[0m\n\u001b[0m\u001b[0;32m      2\u001b[0m \u001b[0mlst\u001b[0m \u001b[1;33m=\u001b[0m \u001b[1;33m[\u001b[0m\u001b[1;33m]\u001b[0m\u001b[1;33m\u001b[0m\u001b[1;33m\u001b[0m\u001b[0m\n\u001b[0;32m      3\u001b[0m \u001b[1;32mfor\u001b[0m \u001b[0mline\u001b[0m \u001b[1;32min\u001b[0m \u001b[0mfile\u001b[0m\u001b[1;33m:\u001b[0m\u001b[1;33m\u001b[0m\u001b[1;33m\u001b[0m\u001b[0m\n\u001b[0;32m      4\u001b[0m     \u001b[0mlst\u001b[0m \u001b[1;33m+=\u001b[0m \u001b[1;33m[\u001b[0m\u001b[0mline\u001b[0m\u001b[1;33m.\u001b[0m\u001b[0msplit\u001b[0m\u001b[1;33m(\u001b[0m\u001b[1;33m)\u001b[0m\u001b[1;33m]\u001b[0m\u001b[1;33m\u001b[0m\u001b[1;33m\u001b[0m\u001b[0m\n\u001b[0;32m      5\u001b[0m \u001b[1;33m\u001b[0m\u001b[0m\n",
      "\u001b[1;31mFileNotFoundError\u001b[0m: [Errno 2] No such file or directory: 'nk_wl1.dat'"
     ]
    }
   ],
   "metadata": {}
  },
  {
   "cell_type": "code",
   "execution_count": 12,
   "source": [
    "file = open('nk_w1.dat')\r\n",
    "lst = []\r\n",
    "for line in file:\r\n",
    "    lst += [line.split()]\r\n",
    "    \r\n",
    "data = np.array(lst[5:],dtype=float)\r\n",
    "\r\n",
    "w = data[:,0]\r\n",
    "\r\n",
    "w_degen = 220 #assuming data is sorted. \r\n",
    "#probably more rigorous to redo comparison with e.g. data[:,1] < data[:,3]\r\n",
    "n_TE    = np.hstack((data[:,1][w < w_degen],data[:,3][w >= w_degen]))\r\n",
    "n_TM    = np.hstack((data[:,3][w < w_degen],data[:,1][w >= w_degen]))\r\n",
    "\r\n",
    "params_w = np.polyfit(w-300,n_TE,3)\r\n",
    "p_w      = np.poly1d(params_w)\r\n",
    "\r\n",
    "plt.figure()\r\n",
    "plt.plot(w, n_TE, marker = 'o', linestyle = '')\r\n",
    "plt.plot(w, n_TM, marker = 'o', linestyle = '')\r\n",
    "plt.plot(w, p_w(w-300))\r\n",
    "plt.show()"
   ],
   "outputs": [
    {
     "output_type": "error",
     "ename": "FileNotFoundError",
     "evalue": "[Errno 2] No such file or directory: 'nk_w1.dat'",
     "traceback": [
      "\u001b[1;31m---------------------------------------------------------------------------\u001b[0m",
      "\u001b[1;31mFileNotFoundError\u001b[0m                         Traceback (most recent call last)",
      "\u001b[1;32m<ipython-input-12-83be0ad16843>\u001b[0m in \u001b[0;36m<module>\u001b[1;34m\u001b[0m\n\u001b[1;32m----> 1\u001b[1;33m \u001b[0mfile\u001b[0m \u001b[1;33m=\u001b[0m \u001b[0mopen\u001b[0m\u001b[1;33m(\u001b[0m\u001b[1;34m'nk_w1.dat'\u001b[0m\u001b[1;33m)\u001b[0m\u001b[1;33m\u001b[0m\u001b[1;33m\u001b[0m\u001b[0m\n\u001b[0m\u001b[0;32m      2\u001b[0m \u001b[0mlst\u001b[0m \u001b[1;33m=\u001b[0m \u001b[1;33m[\u001b[0m\u001b[1;33m]\u001b[0m\u001b[1;33m\u001b[0m\u001b[1;33m\u001b[0m\u001b[0m\n\u001b[0;32m      3\u001b[0m \u001b[1;32mfor\u001b[0m \u001b[0mline\u001b[0m \u001b[1;32min\u001b[0m \u001b[0mfile\u001b[0m\u001b[1;33m:\u001b[0m\u001b[1;33m\u001b[0m\u001b[1;33m\u001b[0m\u001b[0m\n\u001b[0;32m      4\u001b[0m     \u001b[0mlst\u001b[0m \u001b[1;33m+=\u001b[0m \u001b[1;33m[\u001b[0m\u001b[0mline\u001b[0m\u001b[1;33m.\u001b[0m\u001b[0msplit\u001b[0m\u001b[1;33m(\u001b[0m\u001b[1;33m)\u001b[0m\u001b[1;33m]\u001b[0m\u001b[1;33m\u001b[0m\u001b[1;33m\u001b[0m\u001b[0m\n\u001b[0;32m      5\u001b[0m \u001b[1;33m\u001b[0m\u001b[0m\n",
      "\u001b[1;31mFileNotFoundError\u001b[0m: [Errno 2] No such file or directory: 'nk_w1.dat'"
     ]
    }
   ],
   "metadata": {}
  },
  {
   "cell_type": "code",
   "execution_count": 13,
   "source": [
    "def neff_wavelength(wl_nm):\r\n",
    "    return p_wl(wl_nm-1280)\r\n",
    "\r\n",
    "def dneff_width(w_nm):\r\n",
    "    return p_w(w_nm-300)-p_wl(0)\r\n"
   ],
   "outputs": [],
   "metadata": {}
  },
  {
   "cell_type": "code",
   "execution_count": 16,
   "source": [
    "# def gratingReflectivity():\r\n",
    "#     '''This is used to plot the reflection/transmission spectrum.'''\r\n",
    "\r\n",
    "#Grating Parameters\r\n",
    "period_nm = 290          # Bragg period\r\n",
    "NG        = 7          # Number of grating periods\r\n",
    "l_nm      = NG*period_nm    # Grating length\r\n",
    "width0_nm = 270;         # mean waveguide width\r\n",
    "dwidth_nm = 80;        # +/- waveguide width\r\n",
    "width1    = width0_nm - dwidth_nm;\r\n",
    "width2    = width0_nm + dwidth_nm;\r\n",
    "loss_dBcm = 0;           # waveguide loss, dB/cm\r\n",
    "loss      = 0.1*np.log(10)*loss_dBcm*(1e2)*(1e-9) #1/nm\r\n",
    "\r\n",
    "#Simulation Parameters:\r\n",
    "span_nm   = 200;       # Set the wavelength span for the simultion\r\n",
    "Npoints   = 500;\r\n",
    "\r\n",
    "def neff_wavelength(wl_nm,flag = 0):\r\n",
    "    if flag:\r\n",
    "        return  2.4379 - 1.1193*(1e-3)*(wl_nm-1554) - 0.035*(1e-6)*(wl_nm-1554)**2;\r\n",
    "    else:\r\n",
    "        return p_wl(wl_nm-1280)\r\n",
    "    \r\n",
    "def dneff_width(w_nm,flag = 0):\r\n",
    "    if flag:\r\n",
    "        return 10.4285*(1e-9)*(w_nm-500)**3 - 5.2487*(1e-6)*(w_nm-500)**2 + 1.6142*(1e-3)*(w_nm-500);\r\n",
    "    else:\r\n",
    "        return p_w(w_nm-300)-p_wl(0)\r\n",
    "\r\n",
    "# Find Bragg wavelength using lambda_Bragg = Period * 2neff(lambda_bragg);\r\n",
    "# Assume neff is for the average waveguide width.\r\n",
    "\r\n",
    "def func(lambda_nm):\r\n",
    "    n_avg = neff_wavelength(lambda_nm)\r\n",
    "    n_avg += (dneff_width(width2)+dneff_width(width1))/2\r\n",
    "    return lambda_nm - period_nm*2*n_avg;\r\n",
    "\r\n",
    "wavelength0 = fsolve(func,1300)\r\n",
    "\r\n",
    "wavelengths = wavelength0 + np.linspace(-span_nm/2, span_nm/2, Npoints);\r\n",
    "n1    = neff_wavelength(wavelengths)+dneff_width(width1); # low index\r\n",
    "n2    = neff_wavelength(wavelengths)+dneff_width(width2); # high index\r\n",
    "\r\n",
    "print(wavelength0,n1[:3],n2[:3])\r\n",
    "      \r\n",
    "[R,T] = TMM_Grating_RT(wavelengths, period_nm, NG, n1, n2, loss)\r\n",
    "\r\n",
    "plt.figure()\r\n",
    "plt.plot(wavelengths,T)\r\n",
    "plt.plot(wavelengths,R)\r\n",
    "plt.xlabel(\"Wavelength [um]\")\r\n",
    "plt.ylabel(\"Response\")\r\n",
    "plt.show()\r\n"
   ],
   "outputs": [
    {
     "output_type": "error",
     "ename": "NameError",
     "evalue": "name 'p_wl' is not defined",
     "traceback": [
      "\u001b[1;31m---------------------------------------------------------------------------\u001b[0m",
      "\u001b[1;31mNameError\u001b[0m                                 Traceback (most recent call last)",
      "\u001b[1;32m<ipython-input-16-481f10e28c88>\u001b[0m in \u001b[0;36m<module>\u001b[1;34m\u001b[0m\n\u001b[0;32m     37\u001b[0m     \u001b[1;32mreturn\u001b[0m \u001b[0mlambda_nm\u001b[0m \u001b[1;33m-\u001b[0m \u001b[0mperiod_nm\u001b[0m\u001b[1;33m*\u001b[0m\u001b[1;36m2\u001b[0m\u001b[1;33m*\u001b[0m\u001b[0mn_avg\u001b[0m\u001b[1;33m;\u001b[0m\u001b[1;33m\u001b[0m\u001b[1;33m\u001b[0m\u001b[0m\n\u001b[0;32m     38\u001b[0m \u001b[1;33m\u001b[0m\u001b[0m\n\u001b[1;32m---> 39\u001b[1;33m \u001b[0mwavelength0\u001b[0m \u001b[1;33m=\u001b[0m \u001b[0mfsolve\u001b[0m\u001b[1;33m(\u001b[0m\u001b[0mfunc\u001b[0m\u001b[1;33m,\u001b[0m\u001b[1;36m1300\u001b[0m\u001b[1;33m)\u001b[0m\u001b[1;33m\u001b[0m\u001b[1;33m\u001b[0m\u001b[0m\n\u001b[0m\u001b[0;32m     40\u001b[0m \u001b[1;33m\u001b[0m\u001b[0m\n\u001b[0;32m     41\u001b[0m \u001b[0mwavelengths\u001b[0m \u001b[1;33m=\u001b[0m \u001b[0mwavelength0\u001b[0m \u001b[1;33m+\u001b[0m \u001b[0mnp\u001b[0m\u001b[1;33m.\u001b[0m\u001b[0mlinspace\u001b[0m\u001b[1;33m(\u001b[0m\u001b[1;33m-\u001b[0m\u001b[0mspan_nm\u001b[0m\u001b[1;33m/\u001b[0m\u001b[1;36m2\u001b[0m\u001b[1;33m,\u001b[0m \u001b[0mspan_nm\u001b[0m\u001b[1;33m/\u001b[0m\u001b[1;36m2\u001b[0m\u001b[1;33m,\u001b[0m \u001b[0mNpoints\u001b[0m\u001b[1;33m)\u001b[0m\u001b[1;33m;\u001b[0m\u001b[1;33m\u001b[0m\u001b[1;33m\u001b[0m\u001b[0m\n",
      "\u001b[1;32m~\\Anaconda3\\lib\\site-packages\\scipy\\optimize\\minpack.py\u001b[0m in \u001b[0;36mfsolve\u001b[1;34m(func, x0, args, fprime, full_output, col_deriv, xtol, maxfev, band, epsfcn, factor, diag)\u001b[0m\n\u001b[0;32m    158\u001b[0m                'diag': diag}\n\u001b[0;32m    159\u001b[0m \u001b[1;33m\u001b[0m\u001b[0m\n\u001b[1;32m--> 160\u001b[1;33m     \u001b[0mres\u001b[0m \u001b[1;33m=\u001b[0m \u001b[0m_root_hybr\u001b[0m\u001b[1;33m(\u001b[0m\u001b[0mfunc\u001b[0m\u001b[1;33m,\u001b[0m \u001b[0mx0\u001b[0m\u001b[1;33m,\u001b[0m \u001b[0margs\u001b[0m\u001b[1;33m,\u001b[0m \u001b[0mjac\u001b[0m\u001b[1;33m=\u001b[0m\u001b[0mfprime\u001b[0m\u001b[1;33m,\u001b[0m \u001b[1;33m**\u001b[0m\u001b[0moptions\u001b[0m\u001b[1;33m)\u001b[0m\u001b[1;33m\u001b[0m\u001b[1;33m\u001b[0m\u001b[0m\n\u001b[0m\u001b[0;32m    161\u001b[0m     \u001b[1;32mif\u001b[0m \u001b[0mfull_output\u001b[0m\u001b[1;33m:\u001b[0m\u001b[1;33m\u001b[0m\u001b[1;33m\u001b[0m\u001b[0m\n\u001b[0;32m    162\u001b[0m         \u001b[0mx\u001b[0m \u001b[1;33m=\u001b[0m \u001b[0mres\u001b[0m\u001b[1;33m[\u001b[0m\u001b[1;34m'x'\u001b[0m\u001b[1;33m]\u001b[0m\u001b[1;33m\u001b[0m\u001b[1;33m\u001b[0m\u001b[0m\n",
      "\u001b[1;32m~\\Anaconda3\\lib\\site-packages\\scipy\\optimize\\minpack.py\u001b[0m in \u001b[0;36m_root_hybr\u001b[1;34m(func, x0, args, jac, col_deriv, xtol, maxfev, band, eps, factor, diag, **unknown_options)\u001b[0m\n\u001b[0;32m    224\u001b[0m     \u001b[1;32mif\u001b[0m \u001b[1;32mnot\u001b[0m \u001b[0misinstance\u001b[0m\u001b[1;33m(\u001b[0m\u001b[0margs\u001b[0m\u001b[1;33m,\u001b[0m \u001b[0mtuple\u001b[0m\u001b[1;33m)\u001b[0m\u001b[1;33m:\u001b[0m\u001b[1;33m\u001b[0m\u001b[1;33m\u001b[0m\u001b[0m\n\u001b[0;32m    225\u001b[0m         \u001b[0margs\u001b[0m \u001b[1;33m=\u001b[0m \u001b[1;33m(\u001b[0m\u001b[0margs\u001b[0m\u001b[1;33m,\u001b[0m\u001b[1;33m)\u001b[0m\u001b[1;33m\u001b[0m\u001b[1;33m\u001b[0m\u001b[0m\n\u001b[1;32m--> 226\u001b[1;33m     \u001b[0mshape\u001b[0m\u001b[1;33m,\u001b[0m \u001b[0mdtype\u001b[0m \u001b[1;33m=\u001b[0m \u001b[0m_check_func\u001b[0m\u001b[1;33m(\u001b[0m\u001b[1;34m'fsolve'\u001b[0m\u001b[1;33m,\u001b[0m \u001b[1;34m'func'\u001b[0m\u001b[1;33m,\u001b[0m \u001b[0mfunc\u001b[0m\u001b[1;33m,\u001b[0m \u001b[0mx0\u001b[0m\u001b[1;33m,\u001b[0m \u001b[0margs\u001b[0m\u001b[1;33m,\u001b[0m \u001b[0mn\u001b[0m\u001b[1;33m,\u001b[0m \u001b[1;33m(\u001b[0m\u001b[0mn\u001b[0m\u001b[1;33m,\u001b[0m\u001b[1;33m)\u001b[0m\u001b[1;33m)\u001b[0m\u001b[1;33m\u001b[0m\u001b[1;33m\u001b[0m\u001b[0m\n\u001b[0m\u001b[0;32m    227\u001b[0m     \u001b[1;32mif\u001b[0m \u001b[0mepsfcn\u001b[0m \u001b[1;32mis\u001b[0m \u001b[1;32mNone\u001b[0m\u001b[1;33m:\u001b[0m\u001b[1;33m\u001b[0m\u001b[1;33m\u001b[0m\u001b[0m\n\u001b[0;32m    228\u001b[0m         \u001b[0mepsfcn\u001b[0m \u001b[1;33m=\u001b[0m \u001b[0mfinfo\u001b[0m\u001b[1;33m(\u001b[0m\u001b[0mdtype\u001b[0m\u001b[1;33m)\u001b[0m\u001b[1;33m.\u001b[0m\u001b[0meps\u001b[0m\u001b[1;33m\u001b[0m\u001b[1;33m\u001b[0m\u001b[0m\n",
      "\u001b[1;32m~\\Anaconda3\\lib\\site-packages\\scipy\\optimize\\minpack.py\u001b[0m in \u001b[0;36m_check_func\u001b[1;34m(checker, argname, thefunc, x0, args, numinputs, output_shape)\u001b[0m\n\u001b[0;32m     22\u001b[0m def _check_func(checker, argname, thefunc, x0, args, numinputs,\n\u001b[0;32m     23\u001b[0m                 output_shape=None):\n\u001b[1;32m---> 24\u001b[1;33m     \u001b[0mres\u001b[0m \u001b[1;33m=\u001b[0m \u001b[0matleast_1d\u001b[0m\u001b[1;33m(\u001b[0m\u001b[0mthefunc\u001b[0m\u001b[1;33m(\u001b[0m\u001b[1;33m*\u001b[0m\u001b[1;33m(\u001b[0m\u001b[1;33m(\u001b[0m\u001b[0mx0\u001b[0m\u001b[1;33m[\u001b[0m\u001b[1;33m:\u001b[0m\u001b[0mnuminputs\u001b[0m\u001b[1;33m]\u001b[0m\u001b[1;33m,\u001b[0m\u001b[1;33m)\u001b[0m \u001b[1;33m+\u001b[0m \u001b[0margs\u001b[0m\u001b[1;33m)\u001b[0m\u001b[1;33m)\u001b[0m\u001b[1;33m)\u001b[0m\u001b[1;33m\u001b[0m\u001b[1;33m\u001b[0m\u001b[0m\n\u001b[0m\u001b[0;32m     25\u001b[0m     \u001b[1;32mif\u001b[0m \u001b[1;33m(\u001b[0m\u001b[0moutput_shape\u001b[0m \u001b[1;32mis\u001b[0m \u001b[1;32mnot\u001b[0m \u001b[1;32mNone\u001b[0m\u001b[1;33m)\u001b[0m \u001b[1;32mand\u001b[0m \u001b[1;33m(\u001b[0m\u001b[0mshape\u001b[0m\u001b[1;33m(\u001b[0m\u001b[0mres\u001b[0m\u001b[1;33m)\u001b[0m \u001b[1;33m!=\u001b[0m \u001b[0moutput_shape\u001b[0m\u001b[1;33m)\u001b[0m\u001b[1;33m:\u001b[0m\u001b[1;33m\u001b[0m\u001b[1;33m\u001b[0m\u001b[0m\n\u001b[0;32m     26\u001b[0m         \u001b[1;32mif\u001b[0m \u001b[1;33m(\u001b[0m\u001b[0moutput_shape\u001b[0m\u001b[1;33m[\u001b[0m\u001b[1;36m0\u001b[0m\u001b[1;33m]\u001b[0m \u001b[1;33m!=\u001b[0m \u001b[1;36m1\u001b[0m\u001b[1;33m)\u001b[0m\u001b[1;33m:\u001b[0m\u001b[1;33m\u001b[0m\u001b[1;33m\u001b[0m\u001b[0m\n",
      "\u001b[1;32m<ipython-input-16-481f10e28c88>\u001b[0m in \u001b[0;36mfunc\u001b[1;34m(lambda_nm)\u001b[0m\n\u001b[0;32m     33\u001b[0m \u001b[1;33m\u001b[0m\u001b[0m\n\u001b[0;32m     34\u001b[0m \u001b[1;32mdef\u001b[0m \u001b[0mfunc\u001b[0m\u001b[1;33m(\u001b[0m\u001b[0mlambda_nm\u001b[0m\u001b[1;33m)\u001b[0m\u001b[1;33m:\u001b[0m\u001b[1;33m\u001b[0m\u001b[1;33m\u001b[0m\u001b[0m\n\u001b[1;32m---> 35\u001b[1;33m     \u001b[0mn_avg\u001b[0m \u001b[1;33m=\u001b[0m \u001b[0mneff_wavelength\u001b[0m\u001b[1;33m(\u001b[0m\u001b[0mlambda_nm\u001b[0m\u001b[1;33m)\u001b[0m\u001b[1;33m\u001b[0m\u001b[1;33m\u001b[0m\u001b[0m\n\u001b[0m\u001b[0;32m     36\u001b[0m     \u001b[0mn_avg\u001b[0m \u001b[1;33m+=\u001b[0m \u001b[1;33m(\u001b[0m\u001b[0mdneff_width\u001b[0m\u001b[1;33m(\u001b[0m\u001b[0mwidth2\u001b[0m\u001b[1;33m)\u001b[0m\u001b[1;33m+\u001b[0m\u001b[0mdneff_width\u001b[0m\u001b[1;33m(\u001b[0m\u001b[0mwidth1\u001b[0m\u001b[1;33m)\u001b[0m\u001b[1;33m)\u001b[0m\u001b[1;33m/\u001b[0m\u001b[1;36m2\u001b[0m\u001b[1;33m\u001b[0m\u001b[1;33m\u001b[0m\u001b[0m\n\u001b[0;32m     37\u001b[0m     \u001b[1;32mreturn\u001b[0m \u001b[0mlambda_nm\u001b[0m \u001b[1;33m-\u001b[0m \u001b[0mperiod_nm\u001b[0m\u001b[1;33m*\u001b[0m\u001b[1;36m2\u001b[0m\u001b[1;33m*\u001b[0m\u001b[0mn_avg\u001b[0m\u001b[1;33m;\u001b[0m\u001b[1;33m\u001b[0m\u001b[1;33m\u001b[0m\u001b[0m\n",
      "\u001b[1;32m<ipython-input-16-481f10e28c88>\u001b[0m in \u001b[0;36mneff_wavelength\u001b[1;34m(wl_nm, flag)\u001b[0m\n\u001b[0;32m     21\u001b[0m         \u001b[1;32mreturn\u001b[0m  \u001b[1;36m2.4379\u001b[0m \u001b[1;33m-\u001b[0m \u001b[1;36m1.1193\u001b[0m\u001b[1;33m*\u001b[0m\u001b[1;33m(\u001b[0m\u001b[1;36m1e-3\u001b[0m\u001b[1;33m)\u001b[0m\u001b[1;33m*\u001b[0m\u001b[1;33m(\u001b[0m\u001b[0mwl_nm\u001b[0m\u001b[1;33m-\u001b[0m\u001b[1;36m1554\u001b[0m\u001b[1;33m)\u001b[0m \u001b[1;33m-\u001b[0m \u001b[1;36m0.035\u001b[0m\u001b[1;33m*\u001b[0m\u001b[1;33m(\u001b[0m\u001b[1;36m1e-6\u001b[0m\u001b[1;33m)\u001b[0m\u001b[1;33m*\u001b[0m\u001b[1;33m(\u001b[0m\u001b[0mwl_nm\u001b[0m\u001b[1;33m-\u001b[0m\u001b[1;36m1554\u001b[0m\u001b[1;33m)\u001b[0m\u001b[1;33m**\u001b[0m\u001b[1;36m2\u001b[0m\u001b[1;33m;\u001b[0m\u001b[1;33m\u001b[0m\u001b[1;33m\u001b[0m\u001b[0m\n\u001b[0;32m     22\u001b[0m     \u001b[1;32melse\u001b[0m\u001b[1;33m:\u001b[0m\u001b[1;33m\u001b[0m\u001b[1;33m\u001b[0m\u001b[0m\n\u001b[1;32m---> 23\u001b[1;33m         \u001b[1;32mreturn\u001b[0m \u001b[0mp_wl\u001b[0m\u001b[1;33m(\u001b[0m\u001b[0mwl_nm\u001b[0m\u001b[1;33m-\u001b[0m\u001b[1;36m1280\u001b[0m\u001b[1;33m)\u001b[0m\u001b[1;33m\u001b[0m\u001b[1;33m\u001b[0m\u001b[0m\n\u001b[0m\u001b[0;32m     24\u001b[0m \u001b[1;33m\u001b[0m\u001b[0m\n\u001b[0;32m     25\u001b[0m \u001b[1;32mdef\u001b[0m \u001b[0mdneff_width\u001b[0m\u001b[1;33m(\u001b[0m\u001b[0mw_nm\u001b[0m\u001b[1;33m,\u001b[0m\u001b[0mflag\u001b[0m \u001b[1;33m=\u001b[0m \u001b[1;36m0\u001b[0m\u001b[1;33m)\u001b[0m\u001b[1;33m:\u001b[0m\u001b[1;33m\u001b[0m\u001b[1;33m\u001b[0m\u001b[0m\n",
      "\u001b[1;31mNameError\u001b[0m: name 'p_wl' is not defined"
     ]
    }
   ],
   "metadata": {}
  },
  {
   "cell_type": "code",
   "execution_count": null,
   "source": [
    "def neff_wavelength(wl_nm,flag = 0):\r\n",
    "    if flag:\r\n",
    "        return  2.4379 - 1.1193*(1e-3)*(wl_nm-1554) - 0.035*(1e-6)*(wl_nm-1554)**2;\r\n",
    "    else:\r\n",
    "        return p_wl(wl_nm-1280)\r\n",
    "    \r\n",
    "def dneff_width(w_nm,flag = 0):\r\n",
    "    if flag:\r\n",
    "        return 10.4285*(1e-9)*(w_nm-500)**3 - 5.2487*(1e-6)*(w_nm-500)**2 + 1.6142*(1e-3)*(w_nm-500);\r\n",
    "    else:\r\n",
    "        return p_w(w_nm-300)-p_wl(0)\r\n",
    "\r\n"
   ],
   "outputs": [],
   "metadata": {}
  },
  {
   "cell_type": "code",
   "execution_count": null,
   "source": [
    "colors = ['r','g','k'];\r\n",
    "lines = ['-','--']\r\n",
    "sources = ['COMSOL','book']\r\n",
    "widths = [300,400,500]\r\n",
    "\r\n",
    "wl_wide = np.linspace(1200,1600,100)\r\n",
    "\r\n",
    "for flag in [0,1]:\r\n",
    "    for i in range(3):\r\n",
    "        nplot = neff_wavelength(wl_wide,flag) + dneff_width(widths[i],flag)\r\n",
    "        plt.plot(wl_wide,nplot, \r\n",
    "                 color = colors[i], \r\n",
    "                label = sources[flag] + ' '+ str(widths[i]) + 'nm',\r\n",
    "                 linestyle = lines[flag])\r\n",
    "plt.legend()"
   ],
   "outputs": [
    {
     "output_type": "execute_result",
     "data": {
      "text/plain": [
       "<matplotlib.legend.Legend at 0x173014fc670>"
      ]
     },
     "metadata": {},
     "execution_count": 646
    },
    {
     "output_type": "display_data",
     "data": {
      "text/plain": [
       "<Figure size 432x288 with 1 Axes>"
      ],
      "image/png": "[encoded data removed]"
     },
     "metadata": {
      "needs_background": "light"
     }
    }
   ],
   "metadata": {}
  },
  {
   "cell_type": "code",
   "execution_count": 9,
   "source": [
    "# def gratingReflectivity():\r\n",
    "#     '''This is used to plot the reflection/transmission spectrum.'''\r\n",
    "\r\n",
    "#Grating Parameters\r\n",
    "period_nm = 315          # Bragg period\r\n",
    "NG        = 25          # Number of grating periods\r\n",
    "l_nm      = NG*period_nm    # Grating length\r\n",
    "width0_nm = 260;         # mean waveguide width\r\n",
    "dwidth_nm = 40;        # +/- waveguide width\r\n",
    "width1    = width0_nm - dwidth_nm;\r\n",
    "width2    = width0_nm + dwidth_nm;\r\n",
    "loss_dBcm = 0;           # waveguide loss, dB/cm\r\n",
    "loss      = 0.1*np.log(10)*loss_dBcm*(1e2)*(1e-9) #1/nm\r\n",
    "\r\n",
    "#Simulation Parameters:\r\n",
    "span_nm   = 200;       # Set the wavelength span for the simultion\r\n",
    "Npoints   = 500;\r\n",
    "\r\n",
    "def neff_wavelength(wl_nm,flag = 0):\r\n",
    "    if flag:\r\n",
    "        return  2.4379 - 1.1193*(1e-3)*(wl_nm-1554) - 0.035*(1e-6)*(wl_nm-1554)**2;\r\n",
    "    else:\r\n",
    "        return p_wl(wl_nm-1280)\r\n",
    "    \r\n",
    "def dneff_width(w_nm,flag = 0):\r\n",
    "    if flag:\r\n",
    "        return 10.4285*(1e-9)*(w_nm-500)**3 - 5.2487*(1e-6)*(w_nm-500)**2 + 1.6142*(1e-3)*(w_nm-500);\r\n",
    "    else:\r\n",
    "        return p_w(w_nm-300)-p_wl(0)\r\n",
    "\r\n",
    "# Find Bragg wavelength using lambda_Bragg = Period * 2neff(lambda_bragg);\r\n",
    "# Assume neff is for the average waveguide width.\r\n",
    "\r\n",
    "def func(lambda_nm):\r\n",
    "    n_avg = neff_wavelength(lambda_nm)\r\n",
    "    n_avg += (dneff_width(width2)+dneff_width(width1))/2\r\n",
    "    return lambda_nm - period_nm*2*n_avg;\r\n",
    "\r\n",
    "wavelength0 = fsolve(func,1300)\r\n",
    "\r\n",
    "wavelengths = wavelength0 + np.linspace(-span_nm/2, span_nm/2, Npoints);\r\n",
    "n1    = neff_wavelength(wavelengths)+dneff_width(width1); # low index\r\n",
    "n2    = neff_wavelength(wavelengths)+dneff_width(width2); # high index\r\n",
    "\r\n",
    "print(wavelength0,n1[:3],n2[:3])\r\n",
    "      \r\n",
    "[R,T] = TMM_Grating_RT(wavelengths, period_nm, NG, n1, n2, loss)\r\n",
    "\r\n",
    "plt.figure()\r\n",
    "plt.plot(wavelengths,T,label = \"transmission\")\r\n",
    "plt.plot(wavelengths,R,label = \"reflection\")\r\n",
    "plt.xlabel(\"Wavelength [um]\")\r\n",
    "plt.ylabel(\"Response\")\r\n",
    "plt.legend()\r\n",
    "plt.show()\r\n"
   ],
   "outputs": [
    {
     "output_type": "error",
     "ename": "NameError",
     "evalue": "name 'p_wl' is not defined",
     "traceback": [
      "\u001b[1;31m---------------------------------------------------------------------------\u001b[0m",
      "\u001b[1;31mNameError\u001b[0m                                 Traceback (most recent call last)",
      "\u001b[1;32m<ipython-input-9-86e506aba509>\u001b[0m in \u001b[0;36m<module>\u001b[1;34m\u001b[0m\n\u001b[0;32m     37\u001b[0m     \u001b[1;32mreturn\u001b[0m \u001b[0mlambda_nm\u001b[0m \u001b[1;33m-\u001b[0m \u001b[0mperiod_nm\u001b[0m\u001b[1;33m*\u001b[0m\u001b[1;36m2\u001b[0m\u001b[1;33m*\u001b[0m\u001b[0mn_avg\u001b[0m\u001b[1;33m;\u001b[0m\u001b[1;33m\u001b[0m\u001b[1;33m\u001b[0m\u001b[0m\n\u001b[0;32m     38\u001b[0m \u001b[1;33m\u001b[0m\u001b[0m\n\u001b[1;32m---> 39\u001b[1;33m \u001b[0mwavelength0\u001b[0m \u001b[1;33m=\u001b[0m \u001b[0mfsolve\u001b[0m\u001b[1;33m(\u001b[0m\u001b[0mfunc\u001b[0m\u001b[1;33m,\u001b[0m\u001b[1;36m1300\u001b[0m\u001b[1;33m)\u001b[0m\u001b[1;33m\u001b[0m\u001b[1;33m\u001b[0m\u001b[0m\n\u001b[0m\u001b[0;32m     40\u001b[0m \u001b[1;33m\u001b[0m\u001b[0m\n\u001b[0;32m     41\u001b[0m \u001b[0mwavelengths\u001b[0m \u001b[1;33m=\u001b[0m \u001b[0mwavelength0\u001b[0m \u001b[1;33m+\u001b[0m \u001b[0mnp\u001b[0m\u001b[1;33m.\u001b[0m\u001b[0mlinspace\u001b[0m\u001b[1;33m(\u001b[0m\u001b[1;33m-\u001b[0m\u001b[0mspan_nm\u001b[0m\u001b[1;33m/\u001b[0m\u001b[1;36m2\u001b[0m\u001b[1;33m,\u001b[0m \u001b[0mspan_nm\u001b[0m\u001b[1;33m/\u001b[0m\u001b[1;36m2\u001b[0m\u001b[1;33m,\u001b[0m \u001b[0mNpoints\u001b[0m\u001b[1;33m)\u001b[0m\u001b[1;33m;\u001b[0m\u001b[1;33m\u001b[0m\u001b[1;33m\u001b[0m\u001b[0m\n",
      "\u001b[1;32m~\\Anaconda3\\lib\\site-packages\\scipy\\optimize\\minpack.py\u001b[0m in \u001b[0;36mfsolve\u001b[1;34m(func, x0, args, fprime, full_output, col_deriv, xtol, maxfev, band, epsfcn, factor, diag)\u001b[0m\n\u001b[0;32m    158\u001b[0m                'diag': diag}\n\u001b[0;32m    159\u001b[0m \u001b[1;33m\u001b[0m\u001b[0m\n\u001b[1;32m--> 160\u001b[1;33m     \u001b[0mres\u001b[0m \u001b[1;33m=\u001b[0m \u001b[0m_root_hybr\u001b[0m\u001b[1;33m(\u001b[0m\u001b[0mfunc\u001b[0m\u001b[1;33m,\u001b[0m \u001b[0mx0\u001b[0m\u001b[1;33m,\u001b[0m \u001b[0margs\u001b[0m\u001b[1;33m,\u001b[0m \u001b[0mjac\u001b[0m\u001b[1;33m=\u001b[0m\u001b[0mfprime\u001b[0m\u001b[1;33m,\u001b[0m \u001b[1;33m**\u001b[0m\u001b[0moptions\u001b[0m\u001b[1;33m)\u001b[0m\u001b[1;33m\u001b[0m\u001b[1;33m\u001b[0m\u001b[0m\n\u001b[0m\u001b[0;32m    161\u001b[0m     \u001b[1;32mif\u001b[0m \u001b[0mfull_output\u001b[0m\u001b[1;33m:\u001b[0m\u001b[1;33m\u001b[0m\u001b[1;33m\u001b[0m\u001b[0m\n\u001b[0;32m    162\u001b[0m         \u001b[0mx\u001b[0m \u001b[1;33m=\u001b[0m \u001b[0mres\u001b[0m\u001b[1;33m[\u001b[0m\u001b[1;34m'x'\u001b[0m\u001b[1;33m]\u001b[0m\u001b[1;33m\u001b[0m\u001b[1;33m\u001b[0m\u001b[0m\n",
      "\u001b[1;32m~\\Anaconda3\\lib\\site-packages\\scipy\\optimize\\minpack.py\u001b[0m in \u001b[0;36m_root_hybr\u001b[1;34m(func, x0, args, jac, col_deriv, xtol, maxfev, band, eps, factor, diag, **unknown_options)\u001b[0m\n\u001b[0;32m    224\u001b[0m     \u001b[1;32mif\u001b[0m \u001b[1;32mnot\u001b[0m \u001b[0misinstance\u001b[0m\u001b[1;33m(\u001b[0m\u001b[0margs\u001b[0m\u001b[1;33m,\u001b[0m \u001b[0mtuple\u001b[0m\u001b[1;33m)\u001b[0m\u001b[1;33m:\u001b[0m\u001b[1;33m\u001b[0m\u001b[1;33m\u001b[0m\u001b[0m\n\u001b[0;32m    225\u001b[0m         \u001b[0margs\u001b[0m \u001b[1;33m=\u001b[0m \u001b[1;33m(\u001b[0m\u001b[0margs\u001b[0m\u001b[1;33m,\u001b[0m\u001b[1;33m)\u001b[0m\u001b[1;33m\u001b[0m\u001b[1;33m\u001b[0m\u001b[0m\n\u001b[1;32m--> 226\u001b[1;33m     \u001b[0mshape\u001b[0m\u001b[1;33m,\u001b[0m \u001b[0mdtype\u001b[0m \u001b[1;33m=\u001b[0m \u001b[0m_check_func\u001b[0m\u001b[1;33m(\u001b[0m\u001b[1;34m'fsolve'\u001b[0m\u001b[1;33m,\u001b[0m \u001b[1;34m'func'\u001b[0m\u001b[1;33m,\u001b[0m \u001b[0mfunc\u001b[0m\u001b[1;33m,\u001b[0m \u001b[0mx0\u001b[0m\u001b[1;33m,\u001b[0m \u001b[0margs\u001b[0m\u001b[1;33m,\u001b[0m \u001b[0mn\u001b[0m\u001b[1;33m,\u001b[0m \u001b[1;33m(\u001b[0m\u001b[0mn\u001b[0m\u001b[1;33m,\u001b[0m\u001b[1;33m)\u001b[0m\u001b[1;33m)\u001b[0m\u001b[1;33m\u001b[0m\u001b[1;33m\u001b[0m\u001b[0m\n\u001b[0m\u001b[0;32m    227\u001b[0m     \u001b[1;32mif\u001b[0m \u001b[0mepsfcn\u001b[0m \u001b[1;32mis\u001b[0m \u001b[1;32mNone\u001b[0m\u001b[1;33m:\u001b[0m\u001b[1;33m\u001b[0m\u001b[1;33m\u001b[0m\u001b[0m\n\u001b[0;32m    228\u001b[0m         \u001b[0mepsfcn\u001b[0m \u001b[1;33m=\u001b[0m \u001b[0mfinfo\u001b[0m\u001b[1;33m(\u001b[0m\u001b[0mdtype\u001b[0m\u001b[1;33m)\u001b[0m\u001b[1;33m.\u001b[0m\u001b[0meps\u001b[0m\u001b[1;33m\u001b[0m\u001b[1;33m\u001b[0m\u001b[0m\n",
      "\u001b[1;32m~\\Anaconda3\\lib\\site-packages\\scipy\\optimize\\minpack.py\u001b[0m in \u001b[0;36m_check_func\u001b[1;34m(checker, argname, thefunc, x0, args, numinputs, output_shape)\u001b[0m\n\u001b[0;32m     22\u001b[0m def _check_func(checker, argname, thefunc, x0, args, numinputs,\n\u001b[0;32m     23\u001b[0m                 output_shape=None):\n\u001b[1;32m---> 24\u001b[1;33m     \u001b[0mres\u001b[0m \u001b[1;33m=\u001b[0m \u001b[0matleast_1d\u001b[0m\u001b[1;33m(\u001b[0m\u001b[0mthefunc\u001b[0m\u001b[1;33m(\u001b[0m\u001b[1;33m*\u001b[0m\u001b[1;33m(\u001b[0m\u001b[1;33m(\u001b[0m\u001b[0mx0\u001b[0m\u001b[1;33m[\u001b[0m\u001b[1;33m:\u001b[0m\u001b[0mnuminputs\u001b[0m\u001b[1;33m]\u001b[0m\u001b[1;33m,\u001b[0m\u001b[1;33m)\u001b[0m \u001b[1;33m+\u001b[0m \u001b[0margs\u001b[0m\u001b[1;33m)\u001b[0m\u001b[1;33m)\u001b[0m\u001b[1;33m)\u001b[0m\u001b[1;33m\u001b[0m\u001b[1;33m\u001b[0m\u001b[0m\n\u001b[0m\u001b[0;32m     25\u001b[0m     \u001b[1;32mif\u001b[0m \u001b[1;33m(\u001b[0m\u001b[0moutput_shape\u001b[0m \u001b[1;32mis\u001b[0m \u001b[1;32mnot\u001b[0m \u001b[1;32mNone\u001b[0m\u001b[1;33m)\u001b[0m \u001b[1;32mand\u001b[0m \u001b[1;33m(\u001b[0m\u001b[0mshape\u001b[0m\u001b[1;33m(\u001b[0m\u001b[0mres\u001b[0m\u001b[1;33m)\u001b[0m \u001b[1;33m!=\u001b[0m \u001b[0moutput_shape\u001b[0m\u001b[1;33m)\u001b[0m\u001b[1;33m:\u001b[0m\u001b[1;33m\u001b[0m\u001b[1;33m\u001b[0m\u001b[0m\n\u001b[0;32m     26\u001b[0m         \u001b[1;32mif\u001b[0m \u001b[1;33m(\u001b[0m\u001b[0moutput_shape\u001b[0m\u001b[1;33m[\u001b[0m\u001b[1;36m0\u001b[0m\u001b[1;33m]\u001b[0m \u001b[1;33m!=\u001b[0m \u001b[1;36m1\u001b[0m\u001b[1;33m)\u001b[0m\u001b[1;33m:\u001b[0m\u001b[1;33m\u001b[0m\u001b[1;33m\u001b[0m\u001b[0m\n",
      "\u001b[1;32m<ipython-input-9-86e506aba509>\u001b[0m in \u001b[0;36mfunc\u001b[1;34m(lambda_nm)\u001b[0m\n\u001b[0;32m     33\u001b[0m \u001b[1;33m\u001b[0m\u001b[0m\n\u001b[0;32m     34\u001b[0m \u001b[1;32mdef\u001b[0m \u001b[0mfunc\u001b[0m\u001b[1;33m(\u001b[0m\u001b[0mlambda_nm\u001b[0m\u001b[1;33m)\u001b[0m\u001b[1;33m:\u001b[0m\u001b[1;33m\u001b[0m\u001b[1;33m\u001b[0m\u001b[0m\n\u001b[1;32m---> 35\u001b[1;33m     \u001b[0mn_avg\u001b[0m \u001b[1;33m=\u001b[0m \u001b[0mneff_wavelength\u001b[0m\u001b[1;33m(\u001b[0m\u001b[0mlambda_nm\u001b[0m\u001b[1;33m)\u001b[0m\u001b[1;33m\u001b[0m\u001b[1;33m\u001b[0m\u001b[0m\n\u001b[0m\u001b[0;32m     36\u001b[0m     \u001b[0mn_avg\u001b[0m \u001b[1;33m+=\u001b[0m \u001b[1;33m(\u001b[0m\u001b[0mdneff_width\u001b[0m\u001b[1;33m(\u001b[0m\u001b[0mwidth2\u001b[0m\u001b[1;33m)\u001b[0m\u001b[1;33m+\u001b[0m\u001b[0mdneff_width\u001b[0m\u001b[1;33m(\u001b[0m\u001b[0mwidth1\u001b[0m\u001b[1;33m)\u001b[0m\u001b[1;33m)\u001b[0m\u001b[1;33m/\u001b[0m\u001b[1;36m2\u001b[0m\u001b[1;33m\u001b[0m\u001b[1;33m\u001b[0m\u001b[0m\n\u001b[0;32m     37\u001b[0m     \u001b[1;32mreturn\u001b[0m \u001b[0mlambda_nm\u001b[0m \u001b[1;33m-\u001b[0m \u001b[0mperiod_nm\u001b[0m\u001b[1;33m*\u001b[0m\u001b[1;36m2\u001b[0m\u001b[1;33m*\u001b[0m\u001b[0mn_avg\u001b[0m\u001b[1;33m;\u001b[0m\u001b[1;33m\u001b[0m\u001b[1;33m\u001b[0m\u001b[0m\n",
      "\u001b[1;32m<ipython-input-9-86e506aba509>\u001b[0m in \u001b[0;36mneff_wavelength\u001b[1;34m(wl_nm, flag)\u001b[0m\n\u001b[0;32m     21\u001b[0m         \u001b[1;32mreturn\u001b[0m  \u001b[1;36m2.4379\u001b[0m \u001b[1;33m-\u001b[0m \u001b[1;36m1.1193\u001b[0m\u001b[1;33m*\u001b[0m\u001b[1;33m(\u001b[0m\u001b[1;36m1e-3\u001b[0m\u001b[1;33m)\u001b[0m\u001b[1;33m*\u001b[0m\u001b[1;33m(\u001b[0m\u001b[0mwl_nm\u001b[0m\u001b[1;33m-\u001b[0m\u001b[1;36m1554\u001b[0m\u001b[1;33m)\u001b[0m \u001b[1;33m-\u001b[0m \u001b[1;36m0.035\u001b[0m\u001b[1;33m*\u001b[0m\u001b[1;33m(\u001b[0m\u001b[1;36m1e-6\u001b[0m\u001b[1;33m)\u001b[0m\u001b[1;33m*\u001b[0m\u001b[1;33m(\u001b[0m\u001b[0mwl_nm\u001b[0m\u001b[1;33m-\u001b[0m\u001b[1;36m1554\u001b[0m\u001b[1;33m)\u001b[0m\u001b[1;33m**\u001b[0m\u001b[1;36m2\u001b[0m\u001b[1;33m;\u001b[0m\u001b[1;33m\u001b[0m\u001b[1;33m\u001b[0m\u001b[0m\n\u001b[0;32m     22\u001b[0m     \u001b[1;32melse\u001b[0m\u001b[1;33m:\u001b[0m\u001b[1;33m\u001b[0m\u001b[1;33m\u001b[0m\u001b[0m\n\u001b[1;32m---> 23\u001b[1;33m         \u001b[1;32mreturn\u001b[0m \u001b[0mp_wl\u001b[0m\u001b[1;33m(\u001b[0m\u001b[0mwl_nm\u001b[0m\u001b[1;33m-\u001b[0m\u001b[1;36m1280\u001b[0m\u001b[1;33m)\u001b[0m\u001b[1;33m\u001b[0m\u001b[1;33m\u001b[0m\u001b[0m\n\u001b[0m\u001b[0;32m     24\u001b[0m \u001b[1;33m\u001b[0m\u001b[0m\n\u001b[0;32m     25\u001b[0m \u001b[1;32mdef\u001b[0m \u001b[0mdneff_width\u001b[0m\u001b[1;33m(\u001b[0m\u001b[0mw_nm\u001b[0m\u001b[1;33m,\u001b[0m\u001b[0mflag\u001b[0m \u001b[1;33m=\u001b[0m \u001b[1;36m0\u001b[0m\u001b[1;33m)\u001b[0m\u001b[1;33m:\u001b[0m\u001b[1;33m\u001b[0m\u001b[1;33m\u001b[0m\u001b[0m\n",
      "\u001b[1;31mNameError\u001b[0m: name 'p_wl' is not defined"
     ]
    }
   ],
   "metadata": {}
  },
  {
   "cell_type": "code",
   "execution_count": null,
   "source": [],
   "outputs": [],
   "metadata": {}
  }
 ],
 "metadata": {
  "kernelspec": {
   "name": "python3",
   "display_name": "Python 3.8.8 64-bit ('base': conda)"
  },
  "language_info": {
   "codemirror_mode": {
    "name": "ipython",
    "version": 3
   },
   "file_extension": ".py",
   "mimetype": "text/x-python",
   "name": "python",
   "nbconvert_exporter": "python",
   "pygments_lexer": "ipython3",
   "version": "3.8.8"
  },
  "interpreter": {
   "hash": "c5bf57dcc116a1b0f415acbf3073bb9ed58d3ba9cbcc13679f9a6060f67741f5"
  }
 },
 "nbformat": 4,
 "nbformat_minor": 5
}